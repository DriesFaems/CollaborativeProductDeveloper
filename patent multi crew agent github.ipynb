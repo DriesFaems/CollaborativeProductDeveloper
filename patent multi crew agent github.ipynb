{
 "cells": [
  {
   "cell_type": "code",
   "execution_count": null,
   "metadata": {},
   "outputs": [],
   "source": [
    "#import libraries\n",
    "\n",
    "from crewai import Crew, Agent, Task, Process\n",
    "from langchain_community.tools import DuckDuckGoSearchRun\n",
    "from langchain_openai import ChatOpenAI\n",
    "import json\n",
    "import os\n",
    "import requests\n",
    "from langchain.tools import tool\n",
    "from langchain.agents import load_tools\n",
    "from langchain_openai import ChatOpenAI\n",
    "from crewai_tools import tool\n",
    "\n"
   ]
  },
  {
   "cell_type": "code",
   "execution_count": null,
   "metadata": {},
   "outputs": [],
   "source": [
    "# definition of search tool for agents\n",
    "\n",
    "search_tool = DuckDuckGoSearchRun()\n"
   ]
  },
  {
   "cell_type": "code",
   "execution_count": null,
   "metadata": {},
   "outputs": [],
   "source": [
    "\n",
    "\n",
    "# enter api key here\n",
    "\n",
    "os.environ[\"OPENAI_API_KEY\"] = api_key"
   ]
  },
  {
   "cell_type": "code",
   "execution_count": null,
   "metadata": {},
   "outputs": [],
   "source": [
    "\n",
    "# creation of vectordatabase for patent database  \n",
    "\n",
    "from langchain.document_loaders import PyPDFLoader\n",
    "from langchain.text_splitter import RecursiveCharacterTextSplitter\n",
    "\n",
    "loaders = [\n",
    "    PyPDFLoader(\"trefferliste_BASF_no_duplicates.pdf\"),\n",
    "]\n",
    "docs = []\n",
    "for loader in loaders:\n",
    "    docs.extend(loader.load())\n",
    "\n",
    "# Split docs into chunks\n",
    "    \n",
    "text_splitter = RecursiveCharacterTextSplitter(\n",
    "    chunk_size = 1500,\n",
    "    chunk_overlap = 150\n",
    ")\n",
    "\n",
    "splits = text_splitter.split_documents(docs)\n",
    "\n",
    "from langchain_openai import OpenAIEmbeddings\n",
    "embedding = OpenAIEmbeddings(api_key = api_key)\n",
    "\n",
    "from langchain.vectorstores import FAISS\n",
    "\n",
    "vectorstore = FAISS.from_documents(splits, embedding)\n",
    "\n",
    "from langchain_openai import ChatOpenAI\n",
    "from langchain.chains import ConversationalRetrievalChain\n",
    "\n",
    "\n",
    "#queries using ConversationalRetrieval Chain\n",
    "\n",
    "chain = ConversationalRetrievalChain.from_llm(llm = ChatOpenAI(temperature=0.0,model_name='gpt-3.5-turbo', api_key=api_key), chain_type = \"stuff\", retriever=vectorstore.as_retriever(), verbose = True)\n",
    "\n"
   ]
  },
  {
   "cell_type": "code",
   "execution_count": null,
   "metadata": {},
   "outputs": [],
   "source": [
    "#creation of tool for searching in patent database\n",
    "\n",
    "@tool(\"patent_database_search\")\n",
    "def patent_database_search(question: str) -> str:\n",
    "    \"\"\"This tool can search in the patent database by exclusively screening the context provided.\"\"\"\n",
    "    return chain.invoke({\"question\": question, \"chat_history\": []})"
   ]
  },
  {
   "cell_type": "code",
   "execution_count": null,
   "metadata": {},
   "outputs": [],
   "source": [
    "from crewai import Agent\n",
    "\n",
    "# Define agents for first crew that needs to engage in product ideation\n",
    "\n",
    "topic_identification_specialist = Agent(\n",
    "    role='Topic Identification Specialist',\n",
    "    goal='Summarize the three most common topics in the provided patent database',\n",
    "    backstory=\"\"\"You are a great expert in summarizing topics from the provided patent database.\"\"\",\n",
    "    verbose=True,\n",
    "    allow_delegation=False,\n",
    "    max_iter=5,\n",
    "    memory=True,\n",
    "    tools=[patent_database_search]\n",
    ")\n",
    "\n",
    "product_development_specialist = Agent(\n",
    "    role='Product Development Specialist',\n",
    "    goal='Use the identified topics from the topic_identification_specialist and the information of the patent_database_search tool to explore a novel product that can leverage the topics and patents.',\n",
    "    backstory=\"\"\"You are a very experienced product developer that can come up with creative suggestions for new products based on recombining available patents.\"\"\",\n",
    "    verbose=True,\n",
    "    allow_delegation=False,\n",
    "    max_iter=5,\n",
    "    memory=True,\n",
    "    tools=[patent_database_search]\n",
    ")\n",
    "\n"
   ]
  },
  {
   "cell_type": "code",
   "execution_count": null,
   "metadata": {},
   "outputs": [],
   "source": [
    "# Create tasks for the agents\n",
    "get_topics = Task(\n",
    "  description=\"\"\"Summarize the three most common topics in the provided patent database.\"\"\",\n",
    "  expected_output=\"\"\"As output, you provide a list of three topics that are present in multiple patents in the database and that have potential for developing a novel product.\"\"\",\n",
    "  agent=topic_identification_specialist\n",
    ")\n",
    "\n",
    "get_product_idea = Task(\n",
    "  description=f\"\"\"Use the patent_database_search tool and the topics identified by the topic_identification_specialist to ideate on novel product. You should ask the patent_database_search tool questions such as: Question 1: What are potential painpoints that can be solved with the patents in the database?; Question 2: What could be an interesting proudct that can be developed by recombining the patents in the database? The product should be very specific and leverage specific aspects of the patents. You are allowed to engage in multiple iterations to fine-tune and optimize the product idea.\"\"\",\n",
    "  expected_output='As output, provide the following two elements: (i) a clear and compelling description of the product and (ii) Provide a list of the patents that are used in the product idea.',\n",
    "  agent=product_development_specialist\n",
    ")\n",
    "\n",
    "\n"
   ]
  },
  {
   "cell_type": "code",
   "execution_count": null,
   "metadata": {},
   "outputs": [],
   "source": [
    "from crewai import Crew, Process\n",
    "\n",
    "# Instantiate the first crew with a sequential process\n",
    "crew = Crew(\n",
    "    agents=[topic_identification_specialist, product_development_specialist],\n",
    "    tasks=[get_topics, get_product_idea],\n",
    "    verbose=2,\n",
    "    process=Process.sequential,\n",
    "    full_output=True,\n",
    "    share_crew=False,\n",
    ")"
   ]
  },
  {
   "cell_type": "code",
   "execution_count": null,
   "metadata": {},
   "outputs": [],
   "source": [
    "# Kick off the crew's work\n",
    "results = crew.kickoff()\n",
    "\n",
    "# Print the results\n",
    "print(\"Crew Work Results:\")\n",
    "print(results)"
   ]
  },
  {
   "cell_type": "code",
   "execution_count": null,
   "metadata": {},
   "outputs": [],
   "source": [
    "print(results['final_output'])"
   ]
  },
  {
   "cell_type": "code",
   "execution_count": null,
   "metadata": {},
   "outputs": [],
   "source": [
    "initial_idea = results['final_output']"
   ]
  },
  {
   "cell_type": "code",
   "execution_count": null,
   "metadata": {},
   "outputs": [],
   "source": [
    "#intiate agents for second crew that needs to optimize the product idea\n",
    "\n",
    "technical_expert = Agent(\n",
    "    role='Technical Expert',\n",
    "    goal='You can optimize a product idea by analyzing its technological feasibility and innovativeness.',\n",
    "    backstory=\"\"\"You are a technical expert that can optimize a product idea based on the technical feasibility of the product idea.\"\"\",\n",
    "    verbose=True,\n",
    "    allow_delegation=False,\n",
    "    max_iter=3,\n",
    "    memory=True,\n",
    "    tools=[patent_database_search, search_tool]\n",
    ")\n",
    "\n",
    "competition_expert = Agent(\n",
    "    role='Competition Expert',\n",
    "    goal='You can search on the internet for competing products and optimize the product to make it as unique as possible leveraging the available patents.',\n",
    "    backstory=\"\"\"You are an expert in identifying competing products by search on the internet.\"\"\",\n",
    "    verbose=True,\n",
    "    allow_delegation=False,\n",
    "    max_iter=3,\n",
    "    memory=True,\n",
    "    tools=[patent_database_search, search_tool]\n",
    ")\n",
    "\n",
    "finalization_expert = Agent(\n",
    "    role='Finalization Expert',\n",
    "    goal='You can finalize the product idea by providing a final product description based on the optimizations of the technical_expert and competition_expert.',\n",
    "    backstory=\"\"\"You are an expert in finalizing product ideas based on the technical feasibility and competition analysis.\"\"\",\n",
    "    verbose=True,\n",
    "    allow_delegation=False,\n",
    "    max_iter=3,\n",
    "    memory=True,\n",
    ")\n"
   ]
  },
  {
   "cell_type": "code",
   "execution_count": null,
   "metadata": {},
   "outputs": [],
   "source": [
    "# Create tasks for the agents\n",
    "\n",
    "technical_optimization = Task(\n",
    "    description=f\"\"\"Engage in a technical optimization of the following product idea: {initial_idea}.\"\"\",\n",
    "    expected_output='As output, provide an optimized description of the product idea.',\n",
    "    agent=technical_expert,\n",
    ")\n",
    "\n",
    "competition_optimization = Task(\n",
    "    description=f\"\"\"Engage in a competition-driven optimization where you make the following product idea as distinctive as possible: {initial_idea}.\"\"\",\n",
    "    expected_output='As output, provide an optimized description of the product idea.',\n",
    "    agent=competition_expert,\n",
    ")\n",
    "\n",
    "finalization = Task(\n",
    "    description=f\"\"\"Finalize the product idea by providing a final product description based on the optimizations of the technical_expert and competition_expert.\"\"\",\n",
    "    expected_output='As output, provide a final description of the product idea.',\n",
    "    agent=finalization_expert,\n",
    ")\n"
   ]
  },
  {
   "cell_type": "code",
   "execution_count": null,
   "metadata": {},
   "outputs": [],
   "source": [
    "# Instantiate the second crew with a hierarchical process\n",
    "\n",
    "second_crew = Crew(\n",
    "    agents=[technical_expert, competition_expert, finalization_expert],\n",
    "    tasks=[technical_optimization, competition_optimization, finalization],\n",
    "    verbose=2,\n",
    "    manager_llm=ChatOpenAI(temperature=0, model=\"gpt-4\"),\n",
    "    process=Process.hierarchical,\n",
    "    full_output=True,\n",
    "    share_crew=False,\n",
    ")"
   ]
  },
  {
   "cell_type": "code",
   "execution_count": null,
   "metadata": {},
   "outputs": [],
   "source": [
    "# Kick off the crew's work\n",
    "second_results = second_crew.kickoff()\n",
    "\n",
    "# Print the results\n",
    "print(\"Crew Work Results:\")\n",
    "print(second_results)"
   ]
  },
  {
   "cell_type": "code",
   "execution_count": null,
   "metadata": {},
   "outputs": [],
   "source": [
    "print(second_results['final_output'])"
   ]
  },
  {
   "cell_type": "code",
   "execution_count": null,
   "metadata": {},
   "outputs": [],
   "source": [
    "print(f\"\"\"\n",
    "    Output technical optimization: {technical_optimization.output.raw_output}\n",
    "    Output competition optimization: {competition_optimization.output.raw_output}\n",
    "    Output finalization: {finalization.output.raw_output}\n",
    "\"\"\")"
   ]
  }
 ],
 "metadata": {
  "kernelspec": {
   "display_name": "Python 3",
   "language": "python",
   "name": "python3"
  },
  "language_info": {
   "codemirror_mode": {
    "name": "ipython",
    "version": 3
   },
   "file_extension": ".py",
   "mimetype": "text/x-python",
   "name": "python",
   "nbconvert_exporter": "python",
   "pygments_lexer": "ipython3",
   "version": "3.11.4"
  }
 },
 "nbformat": 4,
 "nbformat_minor": 2
}
